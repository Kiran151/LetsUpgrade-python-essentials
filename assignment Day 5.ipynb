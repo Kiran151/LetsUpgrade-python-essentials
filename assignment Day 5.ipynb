{
 "cells": [
  {
   "cell_type": "code",
   "execution_count": null,
   "metadata": {},
   "outputs": [],
   "source": [
    "x = [1,5,5,6,6,1,4,1,8,5]\n",
    "\n",
    "y = [1,1,5]\n",
    "\n",
    "def check(a,b):\n",
    "    for i in a:\n",
    "        for j in b:\n",
    "            if(len(b)>=0 and j == i):\n",
    "                b.pop(0)\n",
    "            else:\n",
    "                break\n",
    "    return b\n",
    "\n",
    "if len(check(x,y))==0:\n",
    "    print(\"its a match\")\n",
    "    else: print(\"its gone\")\n",
    "        \n",
    "check(x,y)      "
   ]
  },
  {
   "cell_type": "code",
   "execution_count": null,
   "metadata": {},
   "outputs": [],
   "source": [
    "its a match"
   ]
  },
  {
   "cell_type": "code",
   "execution_count": null,
   "metadata": {},
   "outputs": [],
   "source": [
    "##make a function for prime and use to filter out all the prime numbers from 1-2500"
   ]
  },
  {
   "cell_type": "code",
   "execution_count": null,
   "metadata": {},
   "outputs": [],
   "source": [
    "def isprime(x):\n",
    "    for n in range(2,x):\n",
    "        if x%n==0:\n",
    "            return false\n",
    "        else:\n",
    "            return true\n",
    "fltrobj=filter(isprime, range(3000)) \n",
    "print ('prime numbers between 1-2500:', list(fltrobj))"
   ]
  },
  {
   "cell_type": "code",
   "execution_count": null,
   "metadata": {},
   "outputs": [],
   "source": [
    "#lampda"
   ]
  },
  {
   "cell_type": "code",
   "execution_count": 5,
   "metadata": {},
   "outputs": [
    {
     "data": {
      "text/plain": [
       "['Hey This Is Kiran', 'Iam In Kerala']"
      ]
     },
     "execution_count": 5,
     "metadata": {},
     "output_type": "execute_result"
    }
   ],
   "source": [
    "lst = ['hey this is kiran', 'iam in kerala']\n",
    "newLst = map(lambda str1:str1.title(), lst)\n",
    "list(newLst)"
   ]
  }
 ],
 "metadata": {
  "kernelspec": {
   "display_name": "Python 3",
   "language": "python",
   "name": "python3"
  },
  "language_info": {
   "codemirror_mode": {
    "name": "ipython",
    "version": 3
   },
   "file_extension": ".py",
   "mimetype": "text/x-python",
   "name": "python",
   "nbconvert_exporter": "python",
   "pygments_lexer": "ipython3",
   "version": "3.8.3"
  }
 },
 "nbformat": 4,
 "nbformat_minor": 4
}

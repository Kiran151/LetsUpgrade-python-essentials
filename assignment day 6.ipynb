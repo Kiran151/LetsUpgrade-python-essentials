{
 "cells": [
  {
   "cell_type": "code",
   "execution_count": 1,
   "metadata": {
    "colab": {
     "base_uri": "https://localhost:8080/",
     "height": 283
    },
    "colab_type": "code",
    "id": "Txi8OjoqzwuY",
    "outputId": "4fc714bc-4232-45df-e17c-5262316fdbb5"
   },
   "outputs": [
    {
     "name": "stdout",
     "output_type": "stream",
     "text": [
      "hey welcome to abc bank\n",
      "Hey enter your name:- kiran\n",
      "Do you want to continue, Y/N y\n",
      "Do you want to deposit? - y/ny\n",
      "enter the amount you want to deposit-100000\n",
      "Hey  kiran  Your account balance is  100000\n"
     ]
    }
   ],
   "source": [
    " class bankaccount():\n",
    "   def __init__(self):\n",
    "     \n",
    "     self.bal = 0\n",
    "    \n",
    "     print(\"hey welcome to abc bank\")\n",
    "     self.owner = input('Hey enter your name:- ')\n",
    "  \n",
    " \n",
    "   def deposit(self):\n",
    "      amt = int(input('enter the amount you want to deposit-'))\n",
    "      self.bal += amt\n",
    "      print( 'Hey ',self.owner,' Your account balance is ',self.bal )\n",
    "   \n",
    "   def withdraw(self): \n",
    "      withdw = int(input(\"enter withdraw amount \"))\n",
    "      int(withdw)\n",
    "      if withdw>self.bal:\n",
    "         print(\"Hey\" , self.owner, \"you have less amount to with draw\")\n",
    "      else:\n",
    "        self.bal -= withdw\n",
    "        print(\"Your balance is \", self.bal)\n",
    " \n",
    "   def display(self): \n",
    "      print(\" Net Available Balance=\",self.bal) \n",
    " \n",
    " \n",
    "acc = bankaccount()\n",
    " \n",
    "trans = 'Y'\n",
    "while trans == 'Y':\n",
    "  trans = input(\"Do you want to continue, Y/N \")\n",
    "  if trans == 'N':\n",
    "    break\n",
    "  else:\n",
    "    ans = input('Do you want to deposit? - y/n') \n",
    "    if ans == 'y':\n",
    "      acc.deposit()\n",
    "      continue\n",
    "        \n",
    "    elif ans == 'n':\n",
    "      acc.withdraw()\n",
    "      continue\n",
    " \n",
    "    else:\n",
    "      acc.display\n",
    "      print(\"Enter the right value\")\n",
    "      continue"
   ]
  },
  {
   "cell_type": "code",
   "execution_count": 8,
   "metadata": {
    "colab": {
     "base_uri": "https://localhost:8080/",
     "height": 107
    },
    "colab_type": "code",
    "executionInfo": {
     "elapsed": 34508,
     "status": "ok",
     "timestamp": 1599892516409,
     "user": {
      "displayName": "Kiran c",
      "photoUrl": "https://lh3.googleusercontent.com/a-/AOh14Gjnatx-ROUNTLTJ2LIxK34LCUsBh03_JXuYxkecnA=s64",
      "userId": "00347650330641450006"
     },
     "user_tz": -330
    },
    "id": "X33mVRsl0XSY",
    "outputId": "d6a48545-6032-4451-fff2-93028c41c82c"
   },
   "outputs": [
    {
     "name": "stdout",
     "output_type": "stream",
     "text": [
      "hey do you want to find area/Vol, a/vV\n",
      "Please enter radius 5\n",
      "Please enter height 10\n",
      "Volume of cone  261.79938779914943\n"
     ]
    }
   ],
   "source": [
    "import math \n",
    "class Cone():\n",
    "  def __init__(self): \n",
    "    self.r =0\n",
    "    self.h = 0\n",
    "    self.pi = math.pi\n",
    " \n",
    "  def volume(self):\n",
    "      self.r = float(input('Please enter radius '))\n",
    "      self.h = float(input(\"Please enter height \"))\n",
    "      vol = (self.pi*self.r*self.r*self.h)/3\n",
    "      print(\"Volume of cone \", vol)\n",
    " \n",
    "  def surfacearea(self):\n",
    "      self.r = float(input('Please enter radius '))\n",
    "      self.h = float(input(\"Please enter height \"))\n",
    "      base = float(self.pi* self.r**2)\n",
    "      s = float((self.r**2+self.h**2)**1/2)\n",
    "      side = self.pi* self.r * s\n",
    "      area = float(base + side)\n",
    "      print(\"Surface area of cone \", area)\n",
    " \n",
    " \n",
    "c = Cone()\n",
    "enter = input('hey do you want to find area/Vol, a/v')\n",
    "if enter == 'a':\n",
    "  c.surfacearea()\n",
    "else:\n",
    "  c.volume()"
   ]
  }
 ],
 "metadata": {
  "anaconda-cloud": {},
  "colab": {
   "collapsed_sections": [],
   "name": "Copy of Copy of Index.ipynb",
   "provenance": [
    {
     "file_id": "18MGma5KYao0imQgkfn3x6cJrTxuCw8ep",
     "timestamp": 1599892619012
    },
    {
     "file_id": "https://github.com/jakevdp/PythonDataScienceHandbook/blob/master/notebooks/Index.ipynb",
     "timestamp": 1599889301036
    }
   ]
  },
  "kernelspec": {
   "display_name": "Python 3",
   "language": "python",
   "name": "python3"
  },
  "language_info": {
   "codemirror_mode": {
    "name": "ipython",
    "version": 3
   },
   "file_extension": ".py",
   "mimetype": "text/x-python",
   "name": "python",
   "nbconvert_exporter": "python",
   "pygments_lexer": "ipython3",
   "version": "3.8.3"
  }
 },
 "nbformat": 4,
 "nbformat_minor": 1
}
